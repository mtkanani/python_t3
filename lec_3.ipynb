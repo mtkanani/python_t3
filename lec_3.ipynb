{
 "cells": [
  {
   "cell_type": "code",
   "execution_count": 4,
   "metadata": {},
   "outputs": [
    {
     "name": "stdout",
     "output_type": "stream",
     "text": [
      "enter stringfriend\n",
      "friends are honest\n",
      "\n",
      "friend are lucky\n"
     ]
    }
   ],
   "source": [
    "# wap to find lines wich contain string enter by user \n",
    "f=open('abc.txt')\n",
    "a=input(\"enter string\")\n",
    "d=f.readlines()\n",
    "for i in d:\n",
    "    if a in i:\n",
    "        print(i)\n",
    "f.close()"
   ]
  },
  {
   "cell_type": "code",
   "execution_count": 16,
   "metadata": {},
   "outputs": [
    {
     "name": "stdout",
     "output_type": "stream",
     "text": [
      "4\n"
     ]
    }
   ],
   "source": [
    "#wap to count the from the given file\n",
    "f=open('abc.txt','r')\n",
    "# a=input('enter input')\n",
    "s=f.read()\n",
    "d=s.split()\n",
    "c=0\n",
    "for i in d:\n",
    "    if i=='the' or i=='The':\n",
    "        c+=1\n",
    "        \n",
    "print(c)\n",
    "f.close()"
   ]
  },
  {
   "cell_type": "code",
   "execution_count": 48,
   "metadata": {},
   "outputs": [
    {
     "name": "stdout",
     "output_type": "stream",
     "text": [
      "stephen.marquard@uct.ac.za\n",
      "louis@media.berkeley.edu\n",
      "zqian@umich.edu\n",
      "rjlowe@iupui.edu\n",
      "zqian@umich.edu\n",
      "rjlowe@iupui.edu\n",
      "cwen@iupui.edu\n",
      "cwen@iupui.edu\n",
      "gsilver@umich.edu\n",
      "gsilver@umich.edu\n",
      "zqian@umich.edu\n",
      "gsilver@umich.edu\n",
      "wagnermr@iupui.edu\n",
      "zqian@umich.edu\n",
      "antranig@caret.cam.ac.uk\n",
      "gopal.ramasammycook@gmail.com\n",
      "david.horwitz@uct.ac.za\n",
      "david.horwitz@uct.ac.za\n",
      "david.horwitz@uct.ac.za\n",
      "david.horwitz@uct.ac.za\n",
      "stephen.marquard@uct.ac.za\n",
      "louis@media.berkeley.edu\n",
      "louis@media.berkeley.edu\n",
      "ray@media.berkeley.edu\n",
      "cwen@iupui.edu\n",
      "cwen@iupui.edu\n",
      "cwen@iupui.edu\n",
      "27\n"
     ]
    }
   ],
   "source": [
    "#open the file mbox-short.txt and read it line by line when you find a line that starts with 'From' print all the \n",
    "#email id's after that \n",
    "f=open('abc.txt','r')\n",
    "c=0\n",
    "l=[]\n",
    "d={}\n",
    "d=f.readlines()\n",
    "for i in d:\n",
    "    if 'From ' in i:\n",
    "        a=i.split()\n",
    "        c+=1\n",
    "        print(a[1])\n",
    "print(c)\n",
    "f.close()"
   ]
  },
  {
   "cell_type": "code",
   "execution_count": 55,
   "metadata": {},
   "outputs": [
    {
     "name": "stdout",
     "output_type": "stream",
     "text": [
      "cwen@iupui.edu  5\n",
      "27\n"
     ]
    }
   ],
   "source": [
    "#open the file mbox-short.txt and read it line by line when you find a line that starts with 'From' print all the \n",
    "#email id's after that \n",
    "l=[]\n",
    "d={}\n",
    "f=open('abc.txt','r')\n",
    "c=0\n",
    "for i in f:\n",
    "#     i=i.rstrip()\n",
    "    if not i.startswith('From '):\n",
    "        continue\n",
    "    c+=1\n",
    "    w=i.split()\n",
    "    l.append(w[1])\n",
    "#     print(w[1])\n",
    "for i in l:\n",
    "    d[i]=d.get(i,0)+1\n",
    "b=max(d.values())\n",
    "for k,v in d.items():\n",
    "    if b==v:\n",
    "        print(k,'',v)\n",
    "print(c)\n",
    "f.close()"
   ]
  },
  {
   "cell_type": "code",
   "execution_count": 60,
   "metadata": {},
   "outputs": [
    {
     "name": "stdout",
     "output_type": "stream",
     "text": [
      "{'T': ['The', 'The', 'Theories'], 'w': ['world', 'whole', 'world', 'world', 'while', 'worlds\".', 'world', 'while', 'world', 'world', 'will', 'worlds', 'ways', 'world', 'world', 'with', 'which'], 'i': ['is', 'in', 'is', 'is,', 'in', 'is', 'is'], 't': ['the', 'totality', 'the', 'that', 'the', 'the', 'talk', 'treat', 'the', 'the', 'the', 'totality', 'time;', 'that', 'talk', 'things', 'the', 'the', 'the', 'the', 'the', 'the', 'the', 'that', 'the'], 'o': ['of', 'of', 'or', 'of', 'others', 'of', 'of', 'one', 'object,', 'others', 'of', 'or', 'of', 'of', 'of', 'of', 'objects', 'of', 'or', 'of', 'of'], 'e': ['entities,', 'everything', 'exists.[1]', 'every', 'experience,'], 'r': ['reality,', 'represented'], 'n': ['nature'], 'h': ['has', 'has', 'how', 'have', 'horizon', 'horizon,', 'horizons\".'], 'b': ['been', 'been,', 'be\".', 'been.', 'biggest', 'by'], 'c': ['conceptualized', 'conceptions', 'complex', 'cosmology,', 'commonly', 'complete', 'consistent', 'could', 'co-given', 'contrasted'], 'd': ['differently', 'different', 'defined', 'defines'], 'f': ['fields.', 'from'], 'S': ['Some', 'Some'], 's': ['see', 'simple', 'scientific', 'space', 'starting'], 'a': ['as', 'a', 'as', 'analyze', 'as', 'a', 'as', 'all', 'and', 'all', 'and', 'as', 'and', 'as', 'all', 'as'], 'u': ['unique,', 'up', 'universe'], '\"': ['\"plurality', '\"the', '\"horizon'], 'm': ['made', 'modality', 'mind,', 'mind', 'mind.'], 'p': ['parts.', 'possible', 'present', 'periphery', 'philosophy'], 'I': ['In', 'In'], 'P': ['Phenomenology,']}\n"
     ]
    }
   ],
   "source": [
    "# wap to create a dictionary with alphabet as a key and list of word starting from that alphabet as a value\n",
    "f=open('abc.txt','r')\n",
    "d={}\n",
    "\n",
    "\n",
    "for i in f:\n",
    "    for j in i.split():\n",
    "        if j[0] not in d.keys():\n",
    "            d[j[0]]=[]\n",
    "            d[j[0]].append(j)\n",
    "        else:\n",
    "            d[j[0]].append(j)\n",
    "f.close()\n",
    "print(d)"
   ]
  },
  {
   "cell_type": "code",
   "execution_count": null,
   "metadata": {},
   "outputs": [],
   "source": []
  }
 ],
 "metadata": {
  "kernelspec": {
   "display_name": "Python 3",
   "language": "python",
   "name": "python3"
  },
  "language_info": {
   "codemirror_mode": {
    "name": "ipython",
    "version": 3
   },
   "file_extension": ".py",
   "mimetype": "text/x-python",
   "name": "python",
   "nbconvert_exporter": "python",
   "pygments_lexer": "ipython3",
   "version": "3.8.5"
  }
 },
 "nbformat": 4,
 "nbformat_minor": 4
}
