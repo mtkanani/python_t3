{
 "cells": [
  {
   "cell_type": "code",
   "execution_count": 2,
   "metadata": {},
   "outputs": [],
   "source": [
    "f=open('abc.txt','w')\n",
    "f.write('ljeng')\n",
    "f.close()"
   ]
  },
  {
   "cell_type": "code",
   "execution_count": 5,
   "metadata": {},
   "outputs": [
    {
     "name": "stdout",
     "output_type": "stream",
     "text": [
      "ljeng\n"
     ]
    }
   ],
   "source": [
    "f=open('abc.txt','r')\n",
    "print(f.read())\n",
    "f.close()\n"
   ]
  },
  {
   "cell_type": "code",
   "execution_count": 7,
   "metadata": {},
   "outputs": [
    {
     "name": "stdout",
     "output_type": "stream",
     "text": [
      "file name= ab.txt\n",
      "mode= w\n",
      "False\n",
      "True\n",
      "False\n",
      "True\n"
     ]
    }
   ],
   "source": [
    "f=open('ab.txt','w')\n",
    "print('file name=',f.name)\n",
    "print('mode=',f.mode)\n",
    "print(f.readable())\n",
    "print(f.writable())\n",
    "print(f.closed)\n",
    "f.close()\n",
    "print(f.closed)"
   ]
  },
  {
   "cell_type": "code",
   "execution_count": 13,
   "metadata": {},
   "outputs": [],
   "source": [
    "f=open('ab.txt','w')\n",
    "f.write('fshshdbfidbhsjf \\n')\n",
    "f.write('..........')\n",
    "f.write('welcome \\n')\n",
    "f.writelines(['abc\\n','ram bolo bhai\\n ','1234567'])\n",
    "f.close()"
   ]
  },
  {
   "cell_type": "code",
   "execution_count": 14,
   "metadata": {},
   "outputs": [
    {
     "name": "stdout",
     "output_type": "stream",
     "text": [
      "fshshdbfidbhsjf \n",
      "..........welcome \n",
      "abc\n",
      "ram bolo bhai\n",
      " 1234567\n"
     ]
    }
   ],
   "source": [
    "f=open('ab.txt','r')\n",
    "data=f.read()\n",
    "print(data)\n",
    "f.close()"
   ]
  },
  {
   "cell_type": "code",
   "execution_count": 17,
   "metadata": {},
   "outputs": [
    {
     "name": "stdout",
     "output_type": "stream",
     "text": [
      "fshshdbfidbhsjf \n",
      "...\n"
     ]
    }
   ],
   "source": [
    "f=open('ab.txt','r')\n",
    "data=f.read(20)\n",
    "print(data)\n",
    "f.close()"
   ]
  },
  {
   "cell_type": "code",
   "execution_count": 19,
   "metadata": {},
   "outputs": [
    {
     "name": "stdout",
     "output_type": "stream",
     "text": [
      "62\n"
     ]
    }
   ],
   "source": [
    "f=open('ab.txt','r')\n",
    "data=f.read()\n",
    "print(len(data))\n",
    "f.close()"
   ]
  },
  {
   "cell_type": "code",
   "execution_count": 42,
   "metadata": {},
   "outputs": [
    {
     "name": "stdout",
     "output_type": "stream",
     "text": [
      "['fsh\\n', '\\n', '..........welcome \\n']\n",
      "fsh\n",
      "\n",
      "\n",
      "\n",
      "..........welcome \n",
      "\n"
     ]
    }
   ],
   "source": [
    "f=open('ab.txt','r')\n",
    "data=f.readlines(5)\n",
    "print(data)\n",
    "\n",
    "for i in data:\n",
    "    print(i)\n",
    "f.close()"
   ]
  },
  {
   "cell_type": "code",
   "execution_count": 50,
   "metadata": {},
   "outputs": [],
   "source": [
    "c=open('ab.txt','a')\n",
    "c.write(\"\\n hari om\")\n",
    "\n",
    "c.close()"
   ]
  },
  {
   "cell_type": "code",
   "execution_count": 51,
   "metadata": {},
   "outputs": [
    {
     "name": "stdout",
     "output_type": "stream",
     "text": [
      "fsh\n",
      "\n",
      "..........welcome \n",
      "abc\n",
      "ram bolo bhai\n",
      " 1234567hari omhari om\n",
      "hari om\n",
      " hari om\n",
      " hari om\n"
     ]
    }
   ],
   "source": [
    "c=open('ab.txt','r')\n",
    "print(c.read())\n",
    "c.close()"
   ]
  },
  {
   "cell_type": "code",
   "execution_count": 60,
   "metadata": {},
   "outputs": [],
   "source": [
    "l=['sum\\n', 'mon\\n','tue\\n','wen\\n','ther\\n','fri\\n','set\\n']\n",
    "f1=open('days.txt','w')\n",
    "f1.writelines(l)\n",
    "f1.close()"
   ]
  },
  {
   "cell_type": "code",
   "execution_count": 63,
   "metadata": {},
   "outputs": [
    {
     "name": "stdout",
     "output_type": "stream",
     "text": [
      "['sum\\n', 'mon\\n', 'tue\\n', 'wen\\n', 'ther\\n', 'fri\\n', 'set\\n']\n",
      "7\n"
     ]
    }
   ],
   "source": [
    "f1=open('days.txt','r')\n",
    "d=f1.readlines()\n",
    "print(d)\n",
    "print(len(d))\n",
    "f1.close()"
   ]
  },
  {
   "cell_type": "code",
   "execution_count": 103,
   "metadata": {},
   "outputs": [],
   "source": [
    "wo=0\n",
    "al=0\n",
    "di=0\n",
    "sp=0\n",
    "x=open('tt.txt','w')\n",
    "x.write('abc 123 !!!')\n",
    "x.close()"
   ]
  },
  {
   "cell_type": "code",
   "execution_count": 104,
   "metadata": {},
   "outputs": [
    {
     "name": "stdout",
     "output_type": "stream",
     "text": [
      "---------> 3\n",
      "---------> 3\n",
      "---------> 3\n",
      "---------> 2\n"
     ]
    }
   ],
   "source": [
    "x=open('tt.txt','r')\n",
    "d=x.read()\n",
    "for i in d:\n",
    "    if i.isalpha():\n",
    "        al+=1\n",
    "    elif i.isdigit():\n",
    "        di+=1\n",
    "        \n",
    "    elif i==' ':\n",
    "        sp+=1\n",
    "    \n",
    "wo=sp+1\n",
    "print('--------->',wo)\n",
    "\n",
    "\n",
    "\n",
    "\n",
    "\n",
    "print('--------->',al)\n",
    "print('--------->',di)\n",
    "\n",
    "\n",
    "print('--------->',sp)\n",
    "\n",
    "\n",
    "\n",
    "x.close()\n"
   ]
  },
  {
   "cell_type": "code",
   "execution_count": null,
   "metadata": {},
   "outputs": [],
   "source": [
    "# to emter and write that txt file \n",
    "name=input(\"enter your name\")\n",
    "age=input(\"enter your no\")\n",
    "\n",
    "w=open('user.txt','w')\n",
    "w.write(name+\"\\t\")\n",
    "\n",
    "\n",
    "w.write(age)\n",
    "w.close()"
   ]
  },
  {
   "cell_type": "code",
   "execution_count": null,
   "metadata": {},
   "outputs": [],
   "source": [
    "w=open('user.txt','r')\n",
    "z=w.read()\n",
    "print(z)\n",
    "w.close()"
   ]
  },
  {
   "cell_type": "code",
   "execution_count": null,
   "metadata": {},
   "outputs": [],
   "source": []
  }
 ],
 "metadata": {
  "kernelspec": {
   "display_name": "Python 3",
   "language": "python",
   "name": "python3"
  },
  "language_info": {
   "codemirror_mode": {
    "name": "ipython",
    "version": 3
   },
   "file_extension": ".py",
   "mimetype": "text/x-python",
   "name": "python",
   "nbconvert_exporter": "python",
   "pygments_lexer": "ipython3",
   "version": "3.8.5"
  }
 },
 "nbformat": 4,
 "nbformat_minor": 4
}
