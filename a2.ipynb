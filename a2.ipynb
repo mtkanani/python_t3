{
 "cells": [
  {
   "cell_type": "code",
   "execution_count": 9,
   "metadata": {},
   "outputs": [
    {
     "name": "stdout",
     "output_type": "stream",
     "text": [
      "a=int(input(\"enter a\"))\n",
      "\n",
      "b=int(input(\"enter b\"))\n",
      "\n",
      "c=a+b \n",
      "print(c)\n"
     ]
    }
   ],
   "source": [
    "#to remove hash lines from thr file \n",
    "f=open('a1.txt','r')\n",
    "while(True):\n",
    "    d=f.readline()\n",
    "    if len(d)!=0:\n",
    "        if d[0]=='#':\n",
    "            continue\n",
    "        else:\n",
    "            if '#' in d:\n",
    "                for i in range(1,len(d)):\n",
    "                    if d[i]=='#':\n",
    "                        print(d[0:i])\n",
    "            else:\n",
    "                print(d)\n",
    "    else:\n",
    "        break\n",
    "f.close()"
   ]
  },
  {
   "cell_type": "code",
   "execution_count": 25,
   "metadata": {},
   "outputs": [
    {
     "name": "stdout",
     "output_type": "stream",
     "text": [
      "['frd are honest\\n', 'frd are best\\n', 'we are nothing without friend']\n",
      "['frd are honest\\n', 'frd are *est\\n', 'we are nothing without friend']\n",
      "column no= 9\n",
      "line no= 2\n"
     ]
    }
   ],
   "source": [
    "#wop to compare two text files give line and column number where the fisrt diffrence accure\n",
    "f1=open('a1.txt','r')\n",
    "f2=open('a2.txt','r')\n",
    "a=f1.readlines()\n",
    "b=f2.readlines()\n",
    "print(a)\n",
    "print(b)\n",
    "for i,j in enumerate(a):\n",
    "    if j!=b[i]:\n",
    "        for ind,ch in enumerate(j):\n",
    "            if ch!=b[i][ind]:\n",
    "                print('column no=',ind+1)\n",
    "                print(\"line no=\",i+1)\n",
    "                break\n",
    "    \n"
   ]
  },
  {
   "cell_type": "code",
   "execution_count": 60,
   "metadata": {},
   "outputs": [
    {
     "name": "stdout",
     "output_type": "stream",
     "text": [
      "C:\\Users\\LJENG\n",
      "['.vscode', 'alert.html', 'books.jfif', 'table.html']\n"
     ]
    },
    {
     "ename": "OSError",
     "evalue": "[WinError 123] The filename, directory name, or volume label syntax is incorrect: 'D:\\\\CSE_B8_FSD_19\\x07lert.html'",
     "output_type": "error",
     "traceback": [
      "\u001b[1;31m---------------------------------------------------------------------------\u001b[0m",
      "\u001b[1;31mOSError\u001b[0m                                   Traceback (most recent call last)",
      "\u001b[1;32m<ipython-input-60-ec55b6fea9a3>\u001b[0m in \u001b[0;36m<module>\u001b[1;34m\u001b[0m\n\u001b[0;32m      2\u001b[0m \u001b[0mprint\u001b[0m\u001b[1;33m(\u001b[0m\u001b[0mos\u001b[0m\u001b[1;33m.\u001b[0m\u001b[0mgetcwd\u001b[0m\u001b[1;33m(\u001b[0m\u001b[1;33m)\u001b[0m\u001b[1;33m)\u001b[0m\u001b[1;33m\u001b[0m\u001b[1;33m\u001b[0m\u001b[0m\n\u001b[0;32m      3\u001b[0m \u001b[0mprint\u001b[0m\u001b[1;33m(\u001b[0m\u001b[0mos\u001b[0m\u001b[1;33m.\u001b[0m\u001b[0mlistdir\u001b[0m\u001b[1;33m(\u001b[0m\u001b[1;34mr\"D:\\CSE_B8_FSD_19\"\u001b[0m\u001b[1;33m)\u001b[0m\u001b[1;33m)\u001b[0m\u001b[1;33m\u001b[0m\u001b[1;33m\u001b[0m\u001b[0m\n\u001b[1;32m----> 4\u001b[1;33m \u001b[0mos\u001b[0m\u001b[1;33m.\u001b[0m\u001b[0mremove\u001b[0m\u001b[1;33m(\u001b[0m\u001b[1;34m'D:\\CSE_B8_FSD_19\\alert.html'\u001b[0m\u001b[1;33m)\u001b[0m\u001b[1;33m\u001b[0m\u001b[1;33m\u001b[0m\u001b[0m\n\u001b[0m\u001b[0;32m      5\u001b[0m \u001b[1;33m\u001b[0m\u001b[0m\n",
      "\u001b[1;31mOSError\u001b[0m: [WinError 123] The filename, directory name, or volume label syntax is incorrect: 'D:\\\\CSE_B8_FSD_19\\x07lert.html'"
     ]
    }
   ],
   "source": [
    "import os\n",
    "print(os.getcwd())\n",
    "print(os.listdir(r\"D:\\CSE_B8_FSD_19\"))\n",
    "os.remove('D:\\CSE_B8_FSD_19\\alert.html')\n",
    "\n"
   ]
  },
  {
   "cell_type": "code",
   "execution_count": 61,
   "metadata": {},
   "outputs": [
    {
     "name": "stdout",
     "output_type": "stream",
     "text": [
      "C:\\Users\\LJENG\n"
     ]
    }
   ],
   "source": [
    "print(os.getcwd())"
   ]
  },
  {
   "cell_type": "code",
   "execution_count": 41,
   "metadata": {},
   "outputs": [
    {
     "ename": "FileNotFoundError",
     "evalue": "[WinError 2] The system cannot find the file specified: 'D:\\\\CSE_B8_FSD_19\\\\p7'",
     "output_type": "error",
     "traceback": [
      "\u001b[1;31m---------------------------------------------------------------------------\u001b[0m",
      "\u001b[1;31mFileNotFoundError\u001b[0m                         Traceback (most recent call last)",
      "\u001b[1;32m<ipython-input-41-17fc9864e27b>\u001b[0m in \u001b[0;36m<module>\u001b[1;34m\u001b[0m\n\u001b[1;32m----> 1\u001b[1;33m \u001b[0mos\u001b[0m\u001b[1;33m.\u001b[0m\u001b[0mremove\u001b[0m\u001b[1;33m(\u001b[0m\u001b[1;34m'D:\\CSE_B8_FSD_19\\p7'\u001b[0m\u001b[1;33m)\u001b[0m\u001b[1;33m\u001b[0m\u001b[1;33m\u001b[0m\u001b[0m\n\u001b[0m",
      "\u001b[1;31mFileNotFoundError\u001b[0m: [WinError 2] The system cannot find the file specified: 'D:\\\\CSE_B8_FSD_19\\\\p7'"
     ]
    }
   ],
   "source": []
  },
  {
   "cell_type": "code",
   "execution_count": 63,
   "metadata": {},
   "outputs": [
    {
     "name": "stdout",
     "output_type": "stream",
     "text": [
      "100\n",
      "the sum= 30\n",
      "the product= 200\n"
     ]
    }
   ],
   "source": [
    "import mymoc\n",
    "print(mymoc.x)\n",
    "mymoc.func1(10,20)\n",
    "mymoc.func2(10,20)"
   ]
  },
  {
   "cell_type": "code",
   "execution_count": 71,
   "metadata": {},
   "outputs": [],
   "source": [
    "import os\n",
    "os.mkdir('pkg1')\n",
    "os.chdir(r'C:\\Users\\LJENG\\pkg1')\n"
   ]
  },
  {
   "cell_type": "code",
   "execution_count": 72,
   "metadata": {},
   "outputs": [
    {
     "name": "stdout",
     "output_type": "stream",
     "text": [
      "Writing mod1.py\n"
     ]
    }
   ],
   "source": [
    "%%writefile mod1.py\n",
    "def foo():\n",
    "    print(\"this is foo\")"
   ]
  },
  {
   "cell_type": "code",
   "execution_count": 73,
   "metadata": {},
   "outputs": [
    {
     "name": "stdout",
     "output_type": "stream",
     "text": [
      "Writing mod2.py\n"
     ]
    }
   ],
   "source": [
    "%%writefile mod2.py\n",
    "def bar():\n",
    "    print(\"this is bar\")"
   ]
  },
  {
   "cell_type": "code",
   "execution_count": 75,
   "metadata": {},
   "outputs": [
    {
     "name": "stdout",
     "output_type": "stream",
     "text": [
      "this is foo\n",
      "this is bar\n"
     ]
    }
   ],
   "source": [
    "from pkg1 import mod1,mod2\n",
    "mod1.foo()\n",
    "mod2.bar()"
   ]
  },
  {
   "cell_type": "code",
   "execution_count": null,
   "metadata": {},
   "outputs": [],
   "source": []
  }
 ],
 "metadata": {
  "kernelspec": {
   "display_name": "Python 3",
   "language": "python",
   "name": "python3"
  },
  "language_info": {
   "codemirror_mode": {
    "name": "ipython",
    "version": 3
   },
   "file_extension": ".py",
   "mimetype": "text/x-python",
   "name": "python",
   "nbconvert_exporter": "python",
   "pygments_lexer": "ipython3",
   "version": "3.8.5"
  }
 },
 "nbformat": 4,
 "nbformat_minor": 4
}
