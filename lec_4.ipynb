{
 "cells": [
  {
   "cell_type": "code",
   "execution_count": 2,
   "metadata": {},
   "outputs": [
    {
     "name": "stdout",
     "output_type": "stream",
     "text": [
      "The world is the totality of entities, the whole of reality, or everything that \n",
      "exists.[1] The nature of the world has been conceptualized differently in \n",
      "different fields. Some conceptions see the world as unique, while others talk \n",
      "of a \"plurality of worlds\". Some treat the world as one simple object, while \n",
      "others analyze the world as a complex made up of parts.\n",
      "\n",
      "\n",
      "\n",
      "In scientific cosmology, the world or universe is commonly defined as \"the \n",
      "totality of all space and time; all that is, has been, and will be\". Theories \n",
      "of modality talk of possible worlds as complete and consistent ways how things \n",
      "could have been. Phenomenology, starting from the horizon of co-given objects \n",
      "present in the periphery of every experience, defines the world as the biggest \n",
      "horizon, or the \"horizon of all horizons\". In philosophy of mind, the world is \n",
      "contrasted with the mind as that which is represented by the mind.\n",
      "\n",
      "\n",
      "\n",
      "\n"
     ]
    }
   ],
   "source": [
    "f=open('abc.txt')\n",
    "l=[]\n",
    "def process(a):\n",
    "    if len(a)<=80:\n",
    "        l.append(a)\n",
    "        return\n",
    "    else:\n",
    "        if a[79]==' ':\n",
    "            l.append(a[:80])\n",
    "            process(a[80:])\n",
    "        elif a[79]!=\" \":\n",
    "            i=a.rfind(' ',0,79)\n",
    "            l.append(a[:i+1])\n",
    "            process(a[i+1:])\n",
    "for x in f:\n",
    "    if len(x)<=80:\n",
    "        l.append(x)\n",
    "    else:\n",
    "        process(x)\n",
    "f1=open('abc1.txt','w')\n",
    "for j in l:\n",
    "    if j[-1]=='':\n",
    "        j=j[:-1]+'\\n'\n",
    "    else:\n",
    "        j+='\\n'\n",
    "    f1.write(j)\n",
    "f.close()\n",
    "f1.close()\n",
    "f2=open('abc1.txt')\n",
    "print(f2.read())"
   ]
  },
  {
   "cell_type": "code",
   "execution_count": 6,
   "metadata": {},
   "outputs": [
    {
     "data": {
      "text/plain": [
       "79"
      ]
     },
     "execution_count": 6,
     "metadata": {},
     "output_type": "execute_result"
    }
   ],
   "source": [
    "q=\"of modality talk of possible worlds as complete and consistent ways how things \"\n",
    "len(q)"
   ]
  },
  {
   "cell_type": "code",
   "execution_count": 15,
   "metadata": {},
   "outputs": [
    {
     "name": "stdout",
     "output_type": "stream",
     "text": [
      "{'CMSAJ CSJNC L;ZM\\n', 'friend are good\\n', \"B CSCSAO CIKC'a\\n\", 'SABCC CBZUH CHBX \\n', 'SABCC CBZUH CHBX ', 'CXNCU CBVGCVV CSVCG\\n'}\n",
      "CMSAJ CSJNC L;ZM\n",
      "\n",
      "friend are good\n",
      "\n",
      "B CSCSAO CIKC'a\n",
      "\n",
      "SABCC CBZUH CHBX \n",
      "\n",
      "SABCC CBZUH CHBX \n",
      "CXNCU CBVGCVV CSVCG\n",
      "\n"
     ]
    }
   ],
   "source": [
    "# wap to eleminate a reapited lines\n",
    "f=open('abc.txt')\n",
    "s=set(f.readlines())\n",
    "print(s)\n",
    "for i in s:\n",
    "    print(i)"
   ]
  },
  {
   "cell_type": "code",
   "execution_count": 25,
   "metadata": {},
   "outputs": [
    {
     "name": "stdout",
     "output_type": "stream",
     "text": [
      "enter value1\n",
      "friend are good\n",
      "\n",
      "\n",
      "doog era dneirf\n",
      "\n",
      "B CSCSAO CIKC'a\n",
      "\n",
      "\n",
      "\n"
     ]
    }
   ],
   "source": [
    "# wap to reverse the line line number given by usr\n",
    "f=open('abc.txt','r')\n",
    "l=f.readlines()\n",
    "choice=int(input(\"enter value\"))\n",
    "line=l[choice]\n",
    "rev=line[::-1]\n",
    "l.pop(choice)\n",
    "rev=rev+'\\n'\n",
    "l.insert(choice,rev)\n",
    "for i in l:\n",
    "    print(i)\n",
    "f.close()"
   ]
  },
  {
   "cell_type": "code",
   "execution_count": 9,
   "metadata": {},
   "outputs": [
    {
     "name": "stdout",
     "output_type": "stream",
     "text": [
      "['water', 'melon', 'melon@email/.msmary.edu', '447-3141']\n",
      "Water Melon melon@email/.msmary.edu 301-447-3141\n"
     ]
    }
   ],
   "source": [
    "# wap to print file in students.txt capitlize the first later of first and last name \n",
    "# and adds the area code to the phone number\n",
    "f=open('student.txt','r')\n",
    "s=f.readlines()\n",
    "for i in s:\n",
    "    x=i.split()\n",
    "    s1=x[0].capitalize()\n",
    "    s2=x[1].capitalize()\n",
    "    s4=x[2]\n",
    "    s3='301-'+x[-1]\n",
    "    final=s1+\" \"+s2+\" \"+s4+\" \"+s3\n",
    "print(x)\n",
    "print(final)\n",
    "f.close()"
   ]
  },
  {
   "cell_type": "code",
   "execution_count": null,
   "metadata": {},
   "outputs": [],
   "source": []
  }
 ],
 "metadata": {
  "kernelspec": {
   "display_name": "Python 3",
   "language": "python",
   "name": "python3"
  },
  "language_info": {
   "codemirror_mode": {
    "name": "ipython",
    "version": 3
   },
   "file_extension": ".py",
   "mimetype": "text/x-python",
   "name": "python",
   "nbconvert_exporter": "python",
   "pygments_lexer": "ipython3",
   "version": "3.8.5"
  }
 },
 "nbformat": 4,
 "nbformat_minor": 4
}
