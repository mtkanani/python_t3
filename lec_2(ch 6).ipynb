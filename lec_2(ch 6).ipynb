{
 "cells": [
  {
   "cell_type": "code",
   "execution_count": 7,
   "metadata": {},
   "outputs": [],
   "source": [
    "f=open('abc1.txt','w')\n",
    "f.write('abc')\n",
    "f.write('ashjsd /n')\n",
    "f.write('cbys /n')\n",
    "f.writelines([\"sbdy /n\",'adydbd /n','grofh /n'])\n",
    "f.close()"
   ]
  },
  {
   "cell_type": "code",
   "execution_count": 19,
   "metadata": {},
   "outputs": [
    {
     "name": "stdout",
     "output_type": "stream",
     "text": [
      "0\n",
      "5\n",
      "18\n",
      "4\n",
      "shjsd/n\n"
     ]
    }
   ],
   "source": [
    "f=open('abc.txt','r')\n",
    "print(f.tell())#where curser in starting position\n",
    "d=f.read(5)#read word of file\n",
    "print(f.tell())#aftter reading d where is curser position\n",
    "d1=f.readlines()#whole file reading \n",
    "print(f.tell())#after read file thene position of curser\n",
    "f.seek(4)#given position where curser going\n",
    "print(f.tell())\n",
    "d2=f.read(7)\n",
    "print(d2)\n",
    "f.close()"
   ]
  },
  {
   "cell_type": "code",
   "execution_count": 39,
   "metadata": {},
   "outputs": [],
   "source": [
    "f1=open('file-1.txt','w')\n",
    "f2=open('file-2.txt','w')\n",
    "f1.writelines(['1\\n2\\b3\\n4\\n5\\n'])\n",
    "f2.writelines(['a\\nb\\nc\\nd\\ne\\nf\\n'])\n",
    "f1.close()\n",
    "f2.close()\n"
   ]
  },
  {
   "cell_type": "code",
   "execution_count": 33,
   "metadata": {},
   "outputs": [
    {
     "name": "stdout",
     "output_type": "stream",
     "text": [
      "1 \n",
      "2 \n",
      "3 \n",
      "4 \n",
      "5 \n",
      "a\n",
      "b\n",
      "c\n",
      "d\n",
      "e\n",
      "f\n",
      "\n"
     ]
    }
   ],
   "source": [
    "f1=open('file-1.txt','r')\n",
    "f2=open('file-2.txt','r')\n",
    "f3=open('file-3.txt','w')\n",
    "for i in f1:\n",
    "    f3.write(i)\n",
    "for j in f2:\n",
    "    f3.write(j)\n",
    "f1.close()\n",
    "f2.close()\n",
    "f3.close()\n",
    "\n",
    "f=open('file-3.txt','r')\n",
    "d=f.read()\n",
    "print(d)"
   ]
  },
  {
   "cell_type": "code",
   "execution_count": 40,
   "metadata": {},
   "outputs": [
    {
     "name": "stdout",
     "output_type": "stream",
     "text": [
      "1\n",
      "a\n",
      "2\b3\n",
      "b\n",
      "4\n",
      "c\n",
      "5\n",
      "d\n",
      "e\n",
      "f\n",
      "\n"
     ]
    }
   ],
   "source": [
    "f1=open('file-1.txt','r')\n",
    "f2=open('file-2.txt','r')\n",
    "f3=open('file-3.txt','w')\n",
    "d=f1.readlines()\n",
    "d1=f2.readlines()\n",
    "l=max(len(d),len(d1))\n",
    "for i in range(l):\n",
    "    if len(d)>i:\n",
    "        f3.write(d[i])\n",
    "    if len(d1)>i:\n",
    "        f3.write(d1[i])\n",
    "    \n",
    "f1.close()\n",
    "f2.close()\n",
    "f3.close()\n",
    "\n",
    "f=open('file-3.txt','r')\n",
    "d=f.read()\n",
    "print(d)"
   ]
  },
  {
   "cell_type": "code",
   "execution_count": 45,
   "metadata": {},
   "outputs": [
    {
     "name": "stdout",
     "output_type": "stream",
     "text": [
      "A\n",
      "B\n",
      "C\n",
      "D\n",
      "E\n",
      "F\n",
      "\n"
     ]
    }
   ],
   "source": [
    "#wop to read file and convert text in upper case \n",
    "f2=open('file-2.txt','r')\n",
    "a=f2.read()\n",
    "a=a.upper()\n",
    "print(a)"
   ]
  },
  {
   "cell_type": "code",
   "execution_count": 51,
   "metadata": {},
   "outputs": [
    {
     "name": "stdout",
     "output_type": "stream",
     "text": [
      "5dfmvkv\n"
     ]
    }
   ],
   "source": [
    "#wap to find longest word from your text file \n",
    "f1=open('file-1.txt','r')\n",
    "maxword=\"\"\n",
    "for i in f1:\n",
    "    for j in i.split():\n",
    "        if len(maxword)<len(j):\n",
    "            maxword=j\n",
    "print(maxword)\n"
   ]
  },
  {
   "cell_type": "code",
   "execution_count": 68,
   "metadata": {},
   "outputs": [
    {
     "name": "stdout",
     "output_type": "stream",
     "text": [
      "14 14\n",
      "not\n"
     ]
    }
   ],
   "source": [
    "#wap to search to string in a search file \n",
    "f1=open('file-1.txt','r')\n",
    "f=f1.read()\n",
    "l=f.split()\n",
    "word='not'\n",
    "for i in l:\n",
    "    if i.find(word)!=-1:\n",
    "        print(l.index(i),l.index(word))\n",
    "        print(i)"
   ]
  },
  {
   "cell_type": "code",
   "execution_count": 70,
   "metadata": {},
   "outputs": [
    {
     "name": "stdout",
     "output_type": "stream",
     "text": [
      "enter file namefile-2.txt\n",
      "Spider webs have existed for at least 100 million years, as witnessed in a rare find of Early Cretaceous amber from Sussex, in southern \n",
      "\n",
      "England.[2] Many spiders build webs specifically to trap and catch insects to eat. However, not all spiders catch their prey in webs, and\n",
      "\n",
      "some do not build webs at all. The term \"spider web\" is typically used to refer to a web that is apparently still in use (i.e., clean), \n",
      "\n",
      "whereas \"cobweb\" refers to a seemingly abandoned (i.e., dusty) web.[3] However, the word \"cobweb\" is also used by biologists to describe the\n",
      "\n",
      "tangled three-dimensional web[4] of some spiders of the family Theridiidae. While this large family is known as the cobweb spiders, they \n",
      "\n",
      "actually have a huge range of web architectures; other names for this spider family include tangle-web spiders and comb-footed spiders.\n",
      "\n",
      "Silk production\n",
      "\n",
      "See also: Spider silk\n",
      "\n",
      "Clearly visible spider silk production\n",
      "\n",
      "Spider web covered in hoar frost\n",
      "\n",
      "When spiders moved from the water to the land in the Early Devonian period, they started making silk to protect their bodies a\n",
      "\n",
      "theireggs.Most Spiders have appendages called spinnerets. These are organs that produce silk with which the spiders spin webs (although som\n",
      "\n",
      "use the silk to catch their prey in other ways). [3][5] Spiders gradually started using silk for hunting purposes, first as guide lines \n",
      "\n",
      "andsignal lines, then as ground or bush webs, and eventually as the aerial webs that are familiar today.[6]\n",
      "\n",
      "Spiders produce silk from their spinneret glands located at the tip of their abdomen. Each gland produces a thread for a special purpose \n",
      "\n",
      "for example a trailed safety line, sticky silk for trapping prey or fine silk for wrapping it. Spiders use different gland types to produce different silks, and some spiders are capable of producing up to eight different silks during their lifetime.[7]\n",
      "\n",
      "Most spiders have three pairs of spinnerets, each having its own function â€“ there are also spiders with just one pair and others with as many as four pairs.\n",
      "\n",
      "Webs allow a spider to catch prey without having to expend energy by running it down, making it an efficient method of gathering food.The \n",
      "\n",
      "hair and claws on spiders' legs allow them to cling to their webs. The oils on their bodies keep them from sticking to their own webs. \n",
      "\n",
      "However these energy savings are somewhat offset by the fact that constructing the web is in itself energetically costly, due to the large \n",
      "\n",
      "amount of protein required in the form of silk. In addition, after a time the silk will lose its stickiness and thus become inefficient at \n",
      "\n",
      "capturing prey. It is common for spiders to eat their own web daily to recoup some of the energy used in spinning. Through ingestion and \n",
      "\n",
      "digestion, the silk proteins are thus recycled.Due to the incredible strength of spider silk, scientists are currently studying it in the \n",
      "\n",
      "hope of creating a super-tough material with the same abilities.\n",
      "\n",
      "Argiope sp. sitting on web decorations at the center of the web\n",
      "\n",
      "enter no for exit otherwise continueyes\n",
      "Spiral orb webs, associated primarily with the family Araneidae, as well as Tetragnathidae and Uloboridae[8]\n",
      "\n",
      "Tangle webs or cobwebs, associated with the family Theridiidae\n",
      "\n",
      "Funnel webs, with associations divided into primitive and modern\n",
      "\n",
      "Tubular webs, which run up the bases of trees or along the ground\n",
      "\n",
      "Sheet webs\n",
      "\n",
      "\n",
      "\n",
      "Spider webs have existed for at least 100 million years, as witnessed in a rare find of Early Cretaceous amber from Sussex, in southern \n",
      "\n",
      "England.[2] Many spiders build webs specifically to trap and catch insects to eat. However, not all spiders catch their prey in webs, and\n",
      "\n",
      "some do not build webs at all. The term \"spider web\" is typically used to refer to a web that is apparently still in use (i.e., clean), \n",
      "\n",
      "whereas \"cobweb\" refers to a seemingly abandoned (i.e., dusty) web.[3] However, the word \"cobweb\" is also used by biologists to describe the\n",
      "\n",
      "tangled three-dimensional web[4] of some spiders of the family Theridiidae. While this large family is known as the cobweb spiders, they \n",
      "\n",
      "actually have a huge range of web architectures; other names for this spider family include tangle-web spiders and comb-footed spiders.\n",
      "\n",
      "Silk production\n",
      "\n",
      "See also: Spider silk\n",
      "\n",
      "Clearly visible spider silk production\n",
      "\n",
      "Spider web covered in hoar frost\n",
      "\n",
      "When spiders moved from the water to the land in the Early Devonian period, they started making silk to protect their bodies a\n",
      "\n",
      "theireggs.Most Spiders have appendages called spinnerets. These are organs that produce silk with which the spiders spin webs (although som\n",
      "\n",
      "use the silk to catch their prey in other ways). [3][5] Spiders gradually started using silk for hunting purposes, first as guide lines \n",
      "\n",
      "andsignal lines, then as ground or bush webs, and eventually as the aerial webs that are familiar today.[6]\n",
      "\n",
      "Spiders produce silk from their spinneret glands located at the tip of their abdomen. Each gland produces a thread for a special purpose \n",
      "\n",
      "for example a trailed safety line, sticky silk for trapping prey or fine silk for wrapping it. Spiders use different gland types to produce different silks, and some spiders are capable of producing up to eight different silks during their lifetime.[7]\n",
      "\n",
      "Most spiders have three pairs of spinnerets, each having its own function â€“ there are also spiders with just one pair and others with as many as four pairs.\n",
      "\n",
      "Webs allow a spider to catch prey without having to expend energy by running it down, making it an efficient method of gathering food.The \n",
      "\n",
      "enter no for exit otherwise continueys\n",
      "However these energy savings are somewhat offset by the fact that constructing the web is in itself energetically costly, due to the large \n",
      "\n",
      "amount of protein required in the form of silk. In addition, after a time the silk will lose its stickiness and thus become inefficient at \n",
      "\n",
      "capturing prey. It is common for spiders to eat their own web daily to recoup some of the energy used in spinning. Through ingestion and \n",
      "\n",
      "digestion, the silk proteins are thus recycled.Due to the incredible strength of spider silk, scientists are currently studying it in the \n",
      "\n",
      "hope of creating a super-tough material with the same abilities.\n",
      "\n",
      "Argiope sp. sitting on web decorations at the center of the web\n",
      "\n",
      "There are a few types of spider webs found in the wild, and many spiders are classified by the webs they weave. Different types of \n",
      "\n",
      "Spiral orb webs, associated primarily with the family Araneidae, as well as Tetragnathidae and Uloboridae[8]\n",
      "\n",
      "Tangle webs or cobwebs, associated with the family Theridiidae\n",
      "\n",
      "Funnel webs, with associations divided into primitive and modern\n",
      "\n",
      "Tubular webs, which run up the bases of trees or along the ground\n",
      "\n",
      "Sheet webs\n"
     ]
    }
   ],
   "source": [
    "#wop to display 25 lines of text file at a time pausing ech time to ask to user to pres to continue\n",
    "f2=open('file-2.txt','r')\n",
    "def pagetext(text_line,n):\n",
    "    for i,j in enumerate(text_line):\n",
    "        if i%n==0 and i:\n",
    "            x=input(\"enter no for exit otherwise continue\")\n",
    "            if x.lower()=='no':\n",
    "                    break\n",
    "        else:\n",
    "            print(j)\n",
    "text_line=open(input(\"enter file name\"))\n",
    "pagetext(text_line,25)\n"
   ]
  },
  {
   "cell_type": "code",
   "execution_count": null,
   "metadata": {},
   "outputs": [],
   "source": []
  }
 ],
 "metadata": {
  "kernelspec": {
   "display_name": "Python 3",
   "language": "python",
   "name": "python3"
  },
  "language_info": {
   "codemirror_mode": {
    "name": "ipython",
    "version": 3
   },
   "file_extension": ".py",
   "mimetype": "text/x-python",
   "name": "python",
   "nbconvert_exporter": "python",
   "pygments_lexer": "ipython3",
   "version": "3.8.5"
  }
 },
 "nbformat": 4,
 "nbformat_minor": 4
}
