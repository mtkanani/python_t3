{
 "cells": [
  {
   "cell_type": "code",
   "execution_count": 8,
   "metadata": {},
   "outputs": [
    {
     "name": "stdout",
     "output_type": "stream",
     "text": [
      "1\n",
      "[8, 2, 3, 4, 9]\n",
      "9\n",
      "[8, 2, 3, 4]\n"
     ]
    }
   ],
   "source": [
    "class sq:\n",
    "    def __init__(self,l):\n",
    "        self.l=l\n",
    "    def shift(self):\n",
    "        if len(self.l)==0:\n",
    "            raise Exception('list empty')\n",
    "        else:\n",
    "            x=self.l.pop(0)\n",
    "            return x\n",
    "    def unshift(self,n):\n",
    "        self.l.insert(0,n)\n",
    "    def push(self,n):\n",
    "        self.l.append(n)\n",
    "    def pop(self):\n",
    "        x=self.l.pop()\n",
    "        return x\n",
    "    def display(self):\n",
    "        print(self.l)\n",
    "obj=sq([1,2,3,4])\n",
    "try:\n",
    "    print(obj.shift())\n",
    "except Exception as e:\n",
    "    print(e)\n",
    "obj.unshift(8)\n",
    "obj.push(9)\n",
    "obj.display()\n",
    "print(obj.pop())\n",
    "obj.display()"
   ]
  },
  {
   "cell_type": "code",
   "execution_count": 20,
   "metadata": {},
   "outputs": [
    {
     "name": "stdout",
     "output_type": "stream",
     "text": [
      "['apple', 'tuple', 'nayan', 'grind']\n",
      "['apple', 'apricot']\n",
      "['find', 'grind']\n",
      "['malayalam', 'nayan']\n",
      "['banana']\n",
      "['set', 'tuple', 'list']\n"
     ]
    }
   ],
   "source": [
    "class worldplay:\n",
    "    def __init__(self):\n",
    "        self.l=['apple','banana','find','dictionary','set','tuple','list','malayalam','nayan','grind','apricot']\n",
    "    def word_with_length(self,length):\n",
    "        l=[]\n",
    "        for i in self.l:\n",
    "            if len(i)==length:\n",
    "                l.append(i)\n",
    "        print(l)\n",
    "    def start_char(self,char):\n",
    "        l=[]\n",
    "        for i in self.l:\n",
    "            if i[0]==char:\n",
    "                l.append(i)\n",
    "        print(l)\n",
    "    def end_with(self,char):\n",
    "        l=[]\n",
    "        for i in self.l:\n",
    "            if i[-1]==char:\n",
    "                l.append(i)\n",
    "        print(l)\n",
    "    def palindrom(self):\n",
    "        l=[]\n",
    "        for i in self.l:\n",
    "            if i==i[::-1]:\n",
    "                l.append(i)\n",
    "        print(l)\n",
    "    def only(self,str1):\n",
    "        l=[]\n",
    "        for i in self.l:\n",
    "            s=set(i)\n",
    "            if s==set(str1):\n",
    "                l.append(i)\n",
    "        print(l)\n",
    "    def avoid(self,str2):\n",
    "        l=[]\n",
    "        for i in  self.l:\n",
    "            s=set(i)\n",
    "            s1=set(str2)\n",
    "            if s.intersection(s1)==set():\n",
    "                l.append(i)\n",
    "        print(l)\n",
    "obj=worldplay()\n",
    "obj.word_with_length(5)\n",
    "obj.start_char('a')\n",
    "obj.end_with('d')\n",
    "obj.palindrom()\n",
    "obj.only('bna')\n",
    "obj.avoid('amkd')"
   ]
  },
  {
   "cell_type": "code",
   "execution_count": null,
   "metadata": {},
   "outputs": [
    {
     "name": "stdout",
     "output_type": "stream",
     "text": [
      "Enter no of item2\n",
      "name =as\n",
      "price =10\n"
     ]
    }
   ],
   "source": [
    "class store:\n",
    "    def __init__(self,n):\n",
    "        self.item=[]\n",
    "        self.price=[]\n",
    "        self.n=n\n",
    "    def get_data(self):\n",
    "        for i in range(self.n):\n",
    "            self.item.append(input('name ='))\n",
    "            self.price.append(int(input('price =')))\n",
    "    def display(self):\n",
    "        for i in range(self.n):\n",
    "            print(\"name =\",self.item[i],\"price =\",self.price[i])\n",
    "    def bill(self,quan):\n",
    "        amount=0\n",
    "        for i in range(self.n):\n",
    "            amount=(self.price[i]*quan[i])\n",
    "        print('\\n\\n')\n",
    "        print('item name',\"\\t\",'item price')\n",
    "        for i in range(self.n):\n",
    "            print(self.item[i],'\\t','\\t',self.price[i],'=',self.price[i]*quan[i])\n",
    "        print(\"total =\",amount)\n",
    "n=int(input(\"Enter no of item\"))\n",
    "s1=store(n)\n",
    "s1.get_data()\n",
    "s1.display()\n",
    "a=[]\n",
    "print(\"enter quantity\")\n",
    "for i in range(n):\n",
    "    a.append(int(input(f\"enter quantity {s1.item[i]} \" )))\n",
    "s1.bill(a)"
   ]
  },
  {
   "cell_type": "code",
   "execution_count": null,
   "metadata": {},
   "outputs": [],
   "source": []
  }
 ],
 "metadata": {
  "kernelspec": {
   "display_name": "Python 3",
   "language": "python",
   "name": "python3"
  },
  "language_info": {
   "codemirror_mode": {
    "name": "ipython",
    "version": 3
   },
   "file_extension": ".py",
   "mimetype": "text/x-python",
   "name": "python",
   "nbconvert_exporter": "python",
   "pygments_lexer": "ipython3",
   "version": "3.8.5"
  }
 },
 "nbformat": 4,
 "nbformat_minor": 4
}
