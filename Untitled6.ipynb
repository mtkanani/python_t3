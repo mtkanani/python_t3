{
 "cells": [
  {
   "cell_type": "code",
   "execution_count": 2,
   "metadata": {},
   "outputs": [
    {
     "name": "stdout",
     "output_type": "stream",
     "text": [
      "human class\n",
      "person\n"
     ]
    }
   ],
   "source": [
    "class human:\n",
    "    print('human class')\n",
    "    def __init__(self):\n",
    "        print('person')\n",
    "obj1=human()"
   ]
  },
  {
   "cell_type": "code",
   "execution_count": 9,
   "metadata": {},
   "outputs": [
    {
     "name": "stdout",
     "output_type": "stream",
     "text": [
      "name = roy age = 20 gender = trans\n",
      "name = royal age = 80 gender = double trans\n"
     ]
    },
    {
     "data": {
      "text/plain": [
       "10"
      ]
     },
     "execution_count": 9,
     "metadata": {},
     "output_type": "execute_result"
    }
   ],
   "source": [
    "class human:\n",
    "    x=10\n",
    "    def __init__(self,name,age,gender):\n",
    "        self.name=name\n",
    "        self.age=age\n",
    "        self.gender=gender\n",
    "    def display(self):\n",
    "        print('name =',self.name,'age =',self.age,'gender =',self.gender)\n",
    "obj1=human('roy','20','trans')\n",
    "obj2=human('royal','80','double trans')\n",
    "obj1.display()\n",
    "obj2.display()\n",
    "obj1.name\n",
    "obj1.x"
   ]
  },
  {
   "cell_type": "code",
   "execution_count": 11,
   "metadata": {},
   "outputs": [
    {
     "name": "stdout",
     "output_type": "stream",
     "text": [
      "name = Mt age = 18 gender = male\n",
      "i am Mt\n",
      "Sweet is my fav dish\n"
     ]
    }
   ],
   "source": [
    "class human:\n",
    "    x=10\n",
    "    def __init__(self,name,age,gender):\n",
    "        self.name=name\n",
    "        self.age=age\n",
    "        self.gender=gender\n",
    "    def display(self):\n",
    "        print('name =',self.name,'age =',self.age,'gender =',self.gender)\n",
    "    def speak(self):\n",
    "        return f\"i am {self.name}\"\n",
    "    def eat(self,dish):\n",
    "        print(dish,\"is my fav dish\")\n",
    "p1=human('Mt','18','male')\n",
    "p1.display()\n",
    "print(p1.speak())\n",
    "p1.eat('Sweet')"
   ]
  },
  {
   "cell_type": "code",
   "execution_count": 15,
   "metadata": {},
   "outputs": [
    {
     "name": "stdout",
     "output_type": "stream",
     "text": [
      "enter marks of subject1:50\n",
      "enter marks of subject2:50\n",
      "enter marks of subject3:50\n",
      "name = ab roll no = 1 Total = 150\n"
     ]
    }
   ],
   "source": [
    "# wap with oop create class student to store marks of 3 sub in a list marks entered by user create object with \n",
    "#student name and object number \n",
    "class student:\n",
    "    def __init__(self,name,rollno):\n",
    "        self.marks=[]\n",
    "        self.name=name\n",
    "        self.rollno=rollno\n",
    "    def entermarks(self):\n",
    "        for i in range(3):\n",
    "            m=int(input(\"enter marks of subject{}:\".format(i+1)))\n",
    "            self.marks.append(m)\n",
    "    def total(self):\n",
    "        return sum(self.marks)\n",
    "    def display(self):\n",
    "        print(\"name =\",self.name,\"roll no =\",self.rollno,\"Total =\",self.total())\n",
    "std1=student('ab',1)\n",
    "std1.entermarks()\n",
    "std1.total()\n",
    "std1.display()"
   ]
  },
  {
   "cell_type": "code",
   "execution_count": 30,
   "metadata": {},
   "outputs": [
    {
     "name": "stdout",
     "output_type": "stream",
     "text": [
      "name = mt Account no = 2645 Balance = 10020\n",
      "enter money you will deposite1200\n",
      "name = mt Account no = 2645 Balance = 11220\n",
      "enter money you will debit1200\n",
      "name = mt Account no = 2645 Balance = 10020\n"
     ]
    }
   ],
   "source": [
    "# wap to oop 1.create class bank account\n",
    "# \"\"\"constructure \n",
    "# name,acc,balance\n",
    "# deposite\n",
    "# withdwar\n",
    "# display\n",
    "# \"\"\"\n",
    "class bank:\n",
    "    def __init__(self,name,accno,balance):\n",
    "        self.name=name\n",
    "        self.accno=accno\n",
    "        self.balance=balance\n",
    "    def deposite(self):\n",
    "        de=int(input(\"enter money you will deposite\"))\n",
    "        self.balance+=de\n",
    "    def withdraw(self):\n",
    "        wi=int(input(\"enter money you will debit\"))\n",
    "        if(wi<self.balance):\n",
    "            self.balance-=wi\n",
    "        else:\n",
    "            print(\"enter sufficient balance\")\n",
    "    def display(self):\n",
    "        print(\"name =\",self.name,\"Account no =\",self.accno,\"Balance =\",self.balance)\n",
    "a1=bank('mt',2645,10020)\n",
    "a1.display()\n",
    "a1.deposite()\n",
    "a1.display()\n",
    "a1.withdraw()\n",
    "a1.display()"
   ]
  },
  {
   "cell_type": "code",
   "execution_count": 5,
   "metadata": {},
   "outputs": [
    {
     "data": {
      "text/plain": [
       "1.4142135623730951"
      ]
     },
     "execution_count": 5,
     "metadata": {},
     "output_type": "execute_result"
    }
   ],
   "source": [
    "# distance between two pts\n",
    "class dis:\n",
    "    def __init__(self,x,y):\n",
    "        self.x=x\n",
    "        self.y=y\n",
    "    def dist(self,pt):\n",
    "        dx=pt.x-self.x\n",
    "        dy=pt.y-self.y\n",
    "        return(dx**2+dy*2)**0.5\n",
    "p1=dis(5,6)\n",
    "p2=dis(7,5)\n",
    "p1.dist(p2)"
   ]
  },
  {
   "cell_type": "code",
   "execution_count": 6,
   "metadata": {},
   "outputs": [
    {
     "name": "stdout",
     "output_type": "stream",
     "text": [
      "1\n",
      "2\n",
      "3\n"
     ]
    }
   ],
   "source": [
    "def abc():\n",
    "    yield 1\n",
    "    yield 2\n",
    "    yield 3\n",
    "for i in abc():\n",
    "    print(i)"
   ]
  },
  {
   "cell_type": "code",
   "execution_count": 8,
   "metadata": {},
   "outputs": [
    {
     "name": "stdout",
     "output_type": "stream",
     "text": [
      "0\n",
      "2\n",
      "4\n",
      "6\n",
      "8\n"
     ]
    }
   ],
   "source": [
    "def gen_fun():\n",
    "    for i in range(10):\n",
    "        if i%2==0:\n",
    "            yield i\n",
    "for i in gen_fun():\n",
    "    print(i)"
   ]
  },
  {
   "cell_type": "code",
   "execution_count": 9,
   "metadata": {},
   "outputs": [
    {
     "name": "stdout",
     "output_type": "stream",
     "text": [
      "First\n",
      "Second\n",
      "Third\n"
     ]
    }
   ],
   "source": [
    "def multiple():\n",
    "    str1='First'\n",
    "    yield str1\n",
    "    str2='Second'\n",
    "    yield str2\n",
    "    str3='Third'\n",
    "    yield str3\n",
    "obj=multiple()\n",
    "print(next(obj))\n",
    "print(next(obj))\n",
    "print(next(obj))"
   ]
  },
  {
   "cell_type": "code",
   "execution_count": 11,
   "metadata": {},
   "outputs": [
    {
     "name": "stdout",
     "output_type": "stream",
     "text": [
      "[1, 4, 9, 16]\n",
      "<generator object <genexpr> at 0x000001CE358779E0>\n",
      "1\n",
      "4\n"
     ]
    }
   ],
   "source": [
    "l=[1,2,3,4]\n",
    "z=[x**2 for x in l]\n",
    "print(z)\n",
    "a=(x**2 for x in l)\n",
    "print(a)\n",
    "print(next(a))\n",
    "print(next(a))"
   ]
  },
  {
   "cell_type": "code",
   "execution_count": 12,
   "metadata": {},
   "outputs": [
    {
     "name": "stdout",
     "output_type": "stream",
     "text": [
      "5.0\n",
      "there is no exeption\n",
      "i always run\n"
     ]
    }
   ],
   "source": [
    "def div(a,b):\n",
    "    return a/b\n",
    "try:\n",
    "    print(div(10,2))\n",
    "except:\n",
    "    print('exeption occured')\n",
    "else:\n",
    "    print('there is no exeption')\n",
    "finally:\n",
    "    print('i always run')"
   ]
  },
  {
   "cell_type": "code",
   "execution_count": 13,
   "metadata": {},
   "outputs": [
    {
     "name": "stdout",
     "output_type": "stream",
     "text": [
      "exeption occured\n",
      "i always run\n"
     ]
    }
   ],
   "source": [
    "def div(a,b):\n",
    "    return a/b\n",
    "try:\n",
    "    print(div(10,0))\n",
    "except:\n",
    "    print('exeption occured')\n",
    "else:\n",
    "    print('there is no exeption')\n",
    "finally:\n",
    "    print('i always run')"
   ]
  },
  {
   "cell_type": "code",
   "execution_count": 21,
   "metadata": {},
   "outputs": [
    {
     "name": "stdout",
     "output_type": "stream",
     "text": [
      "b should be int\n"
     ]
    },
    {
     "data": {
      "text/plain": [
       "10"
      ]
     },
     "execution_count": 21,
     "metadata": {},
     "output_type": "execute_result"
    }
   ],
   "source": [
    "def add(a,b):\n",
    "    if type(a)==str:\n",
    "        raise TypeError(\"a should be int\")\n",
    "    if type(b)==str:\n",
    "        raise TypeError('b should be int')\n",
    "    return a+b\n",
    "try:\n",
    "    print(add(5,'cd'))\n",
    "except Exception as e:\n",
    "    print(e)\n",
    "add(4,6)"
   ]
  },
  {
   "cell_type": "code",
   "execution_count": 22,
   "metadata": {},
   "outputs": [
    {
     "name": "stdout",
     "output_type": "stream",
     "text": [
      "friend are good\n",
      "friend are good\n",
      "B CSCSAO CIKC'a\n",
      "\n",
      "\n",
      "5\n",
      "bhaida.....limit ma re mara vala\n"
     ]
    }
   ],
   "source": [
    "try:\n",
    "    m=5\n",
    "    f=open('abc.txt','r')\n",
    "    print(f.read())\n",
    "    print(m)\n",
    "    l=[1,2,3]\n",
    "    print(l[100])\n",
    "except FileNotFoundError:\n",
    "    print('file ni male')\n",
    "except NameError:\n",
    "    print('a name nu nathi mara vala')\n",
    "except IndexError:\n",
    "    print('bhaida.....limit ma re mara vala')"
   ]
  },
  {
   "cell_type": "code",
   "execution_count": 26,
   "metadata": {},
   "outputs": [
    {
     "ename": "NotValidAge",
     "evalue": "Age should be >18",
     "output_type": "error",
     "traceback": [
      "\u001b[1;31m---------------------------------------------------------------------------\u001b[0m",
      "\u001b[1;31mNotValidAge\u001b[0m                               Traceback (most recent call last)",
      "\u001b[1;32m<ipython-input-26-07994fc75173>\u001b[0m in \u001b[0;36m<module>\u001b[1;34m\u001b[0m\n\u001b[0;32m      5\u001b[0m     \u001b[1;32mif\u001b[0m \u001b[0mage\u001b[0m\u001b[1;33m<\u001b[0m\u001b[1;36m18\u001b[0m\u001b[1;33m:\u001b[0m\u001b[1;33m\u001b[0m\u001b[1;33m\u001b[0m\u001b[0m\n\u001b[0;32m      6\u001b[0m         \u001b[1;32mraise\u001b[0m \u001b[0mNotValidAge\u001b[0m\u001b[1;33m\u001b[0m\u001b[1;33m\u001b[0m\u001b[0m\n\u001b[1;32m----> 7\u001b[1;33m \u001b[0mdriving_licence\u001b[0m\u001b[1;33m(\u001b[0m\u001b[1;36m12\u001b[0m\u001b[1;33m)\u001b[0m\u001b[1;33m\u001b[0m\u001b[1;33m\u001b[0m\u001b[0m\n\u001b[0m",
      "\u001b[1;32m<ipython-input-26-07994fc75173>\u001b[0m in \u001b[0;36mdriving_licence\u001b[1;34m(age)\u001b[0m\n\u001b[0;32m      4\u001b[0m \u001b[1;32mdef\u001b[0m \u001b[0mdriving_licence\u001b[0m\u001b[1;33m(\u001b[0m\u001b[0mage\u001b[0m\u001b[1;33m)\u001b[0m\u001b[1;33m:\u001b[0m\u001b[1;33m\u001b[0m\u001b[1;33m\u001b[0m\u001b[0m\n\u001b[0;32m      5\u001b[0m     \u001b[1;32mif\u001b[0m \u001b[0mage\u001b[0m\u001b[1;33m<\u001b[0m\u001b[1;36m18\u001b[0m\u001b[1;33m:\u001b[0m\u001b[1;33m\u001b[0m\u001b[1;33m\u001b[0m\u001b[0m\n\u001b[1;32m----> 6\u001b[1;33m         \u001b[1;32mraise\u001b[0m \u001b[0mNotValidAge\u001b[0m\u001b[1;33m\u001b[0m\u001b[1;33m\u001b[0m\u001b[0m\n\u001b[0m\u001b[0;32m      7\u001b[0m \u001b[0mdriving_licence\u001b[0m\u001b[1;33m(\u001b[0m\u001b[1;36m12\u001b[0m\u001b[1;33m)\u001b[0m\u001b[1;33m\u001b[0m\u001b[1;33m\u001b[0m\u001b[0m\n",
      "\u001b[1;31mNotValidAge\u001b[0m: Age should be >18"
     ]
    }
   ],
   "source": [
    "class NotValidAge(Exception):\n",
    "    def __str__(self):\n",
    "        return 'Age should be >18'\n",
    "def driving_licence(age):\n",
    "    if age<18:\n",
    "        raise NotValidAge\n",
    "driving_licence(12)"
   ]
  },
  {
   "cell_type": "code",
   "execution_count": 27,
   "metadata": {},
   "outputs": [
    {
     "name": "stdout",
     "output_type": "stream",
     "text": [
      "invalid age\n"
     ]
    }
   ],
   "source": [
    "class NotValidAge(Exception):\n",
    "    def __str__(self):\n",
    "        return 'Age should be >18'\n",
    "def driving_licence(age):\n",
    "    if age<18:\n",
    "        raise NotValidAge\n",
    "try:\n",
    "    driving_licence(12)\n",
    "except:\n",
    "    print('invalid age')"
   ]
  },
  {
   "cell_type": "code",
   "execution_count": 33,
   "metadata": {},
   "outputs": [
    {
     "name": "stdout",
     "output_type": "stream",
     "text": [
      "1. add book 2.display bookes\n",
      "enter choice =1\n",
      "enter book name :bhj\n",
      "enter author name :ljk\n",
      "enter publisher name :sd\n",
      "do you went to continue..?  then type yy\n",
      "Bye , Thank you\n",
      "1. add book 2.display bookes\n",
      "enter choice =2\n",
      "Book Name = bhj Auther Name = ljk Publisher Name = sd\n",
      "None\n",
      "do you went to continue..?  then type yno\n",
      "Bye , Thank you\n"
     ]
    }
   ],
   "source": [
    "#wap to program using oop \n",
    "#create class library which has attribute title author name title of book publisher \n",
    "#aclass can keep book record and display books available in library take a user input to add book in library \n",
    "class library:\n",
    "    def __init__(self):\n",
    "        self.t=''\n",
    "        self.a=''\n",
    "        self.p=''\n",
    "    def read(self):\n",
    "        self.t=input('enter book name :')\n",
    "        self.a=input('enter author name :')\n",
    "        self.p=input('enter publisher name :')\n",
    "    def display(self):\n",
    "        print('Book Name =',self.t,'Auther Name =',self.a,'Publisher Name =',self.p)\n",
    "my_book=[]\n",
    "ch='y'\n",
    "while ch=='y':\n",
    "    print('1. add book 2.display bookes')\n",
    "    c=int(input('enter choice ='))\n",
    "    if c==1:\n",
    "        book=library()\n",
    "        book.read()\n",
    "        my_book.append(book)\n",
    "    elif c==2:\n",
    "        for i in my_book:\n",
    "            print(i.display())\n",
    "    else:\n",
    "        print('invalid choice')\n",
    "    ch=input(\"do you went to continue..?  then type y :\")\n",
    "    print('Bye , Thank you')\n",
    "    "
   ]
  },
  {
   "cell_type": "code",
   "execution_count": 34,
   "metadata": {},
   "outputs": [
    {
     "ename": "SyntaxError",
     "evalue": "unexpected EOF while parsing (<ipython-input-34-dcdd2d6d0975>, line 18)",
     "output_type": "error",
     "traceback": [
      "\u001b[1;36m  File \u001b[1;32m\"<ipython-input-34-dcdd2d6d0975>\"\u001b[1;36m, line \u001b[1;32m18\u001b[0m\n\u001b[1;33m    \u001b[0m\n\u001b[1;37m    ^\u001b[0m\n\u001b[1;31mSyntaxError\u001b[0m\u001b[1;31m:\u001b[0m unexpected EOF while parsing\n"
     ]
    }
   ],
   "source": [
    "class atm:\n",
    "    def __init__(self):\n",
    "        self.pin=''\n",
    "        self.balance=''\n",
    "    def menu():\n",
    "        print('Hi how can i help you.?')\n",
    "        print('press 1 to create pin')\n",
    "        print('press 2 to change pin')\n",
    "        print('press 3 to check balance')\n",
    "        print('press 4 to withdraw')\n",
    "        print('press 5 to exit')\n",
    "        choice=int(input('enter choice :'))\n",
    "    def create_pin(self):\n",
    "        f=open('abc1.txt','w')\n",
    "        pin=int(input('enter pin you will create'))\n",
    "        f.write(pin)\n",
    "        f.close()\n",
    "    def change_pin(self):\n",
    "        \n",
    "        "
   ]
  }
 ],
 "metadata": {
  "kernelspec": {
   "display_name": "Python 3",
   "language": "python",
   "name": "python3"
  },
  "language_info": {
   "codemirror_mode": {
    "name": "ipython",
    "version": 3
   },
   "file_extension": ".py",
   "mimetype": "text/x-python",
   "name": "python",
   "nbconvert_exporter": "python",
   "pygments_lexer": "ipython3",
   "version": "3.8.5"
  }
 },
 "nbformat": 4,
 "nbformat_minor": 4
}
